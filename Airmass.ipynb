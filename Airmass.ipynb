{
 "cells": [
  {
   "cell_type": "code",
   "execution_count": 64,
   "metadata": {
    "collapsed": true,
    "deletable": true,
    "editable": true
   },
   "outputs": [],
   "source": [
    "import os\n",
    "import glob\n",
    "import datetime\n",
    "import astropy.units as u\n",
    "from astropy.io import fits\n",
    "from astropy.time import Time\n",
    "from astropy import coordinates as coord\n",
    "from astropy.coordinates import SkyCoord, EarthLocation, AltAz"
   ]
  },
  {
   "cell_type": "code",
   "execution_count": 72,
   "metadata": {
    "collapsed": true,
    "deletable": true,
    "editable": true
   },
   "outputs": [],
   "source": [
    "wd = '/home/anirban/Airmass_Test/'\n",
    "os.chdir(wd)"
   ]
  },
  {
   "cell_type": "code",
   "execution_count": 73,
   "metadata": {
    "collapsed": false,
    "deletable": true,
    "editable": true
   },
   "outputs": [
    {
     "name": "stdout",
     "output_type": "stream",
     "text": [
      "['sfdcb_SN_Gr7.ms.fits', 'wcs_acfb_20180209_V.fits']\n"
     ]
    }
   ],
   "source": [
    "list_files = glob.glob('*.fits')\n",
    "print list_files"
   ]
  },
  {
   "cell_type": "code",
   "execution_count": 67,
   "metadata": {
    "collapsed": false,
    "deletable": true,
    "editable": true
   },
   "outputs": [],
   "source": [
    "observatory = 'iao'\n",
    "latitude = 32.7794 * u.deg\n",
    "longitude = 78.9642 * u.deg\n",
    "altitude = 4500 * u.m\n",
    "tz = +5.5 * u.hour\n",
    "name = 'Indian Astronomical Observatory, Hanle'"
   ]
  },
  {
   "cell_type": "code",
   "execution_count": 91,
   "metadata": {
    "collapsed": false,
    "deletable": true,
    "editable": true
   },
   "outputs": [
    {
     "name": "stdout",
     "output_type": "stream",
     "text": [
      "1.31355514075\n",
      "2.36579552231\n"
     ]
    }
   ],
   "source": [
    "hct = EarthLocation.from_geodetic(lat=latitude, lon=longitude, height=altitude)\n",
    "utcoffset = +5.5 * u.hour\n",
    "for file_name in list_files:\n",
    "    hdu = fits.open(file_name, mode='update')\n",
    "    header = hdu[0].header\n",
    "\n",
    "    if 'TM_START' in header.keys():\n",
    "        date_obs = header['DATE-OBS']\n",
    "        time_start = header['TM_START']\n",
    "        ra = header['RA']\n",
    "        dec = header['DEC']\n",
    "        time_utc = str(datetime.timedelta(seconds=int(time_start)))\n",
    "        datetime_utc = date_obs+' '+time_utc\n",
    "        time = Time(datetime_utc)\n",
    "    else:\n",
    "        date_time = header['DATE-AVG'].split('T')\n",
    "        time_obj = date_time[0]+' '+date_time[1] \n",
    "        time = Time(time_obj)\n",
    "        ra = header['RA']\n",
    "        dec = header['DEC']\n",
    "        c = SkyCoord(ra, dec, unit=(u.hourangle, u.deg))\n",
    "        ra = c.ra.deg\n",
    "        dec = c.dec.deg\n",
    "        \n",
    "\n",
    "    coords = SkyCoord(ra, dec, unit='deg')\n",
    "    coos = SkyCoord(ra*u.deg, dec*u.deg, frame='icrs')\n",
    "    altaz_ = coord.AltAz(obstime=time, location=hct)\n",
    "    altaz = coos.transform_to(altaz_)\n",
    "    airmass = altaz.secz\n",
    "\n",
    "    print airmass"
   ]
  },
  {
   "cell_type": "code",
   "execution_count": null,
   "metadata": {
    "collapsed": true,
    "deletable": true,
    "editable": true
   },
   "outputs": [],
   "source": []
  }
 ],
 "metadata": {
  "kernelspec": {
   "display_name": "Python 2",
   "language": "python",
   "name": "python2"
  },
  "language_info": {
   "codemirror_mode": {
    "name": "ipython",
    "version": 2
   },
   "file_extension": ".py",
   "mimetype": "text/x-python",
   "name": "python",
   "nbconvert_exporter": "python",
   "pygments_lexer": "ipython2",
   "version": "2.7.17"
  }
 },
 "nbformat": 4,
 "nbformat_minor": 2
}
